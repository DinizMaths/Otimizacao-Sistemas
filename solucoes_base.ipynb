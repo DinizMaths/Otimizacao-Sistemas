{
 "cells": [
  {
   "cell_type": "code",
   "execution_count": 1,
   "metadata": {},
   "outputs": [],
   "source": [
    "from itertools import combinations\n",
    "from math      import comb\n",
    "\n",
    "import numpy  as np\n",
    "import pandas as pd"
   ]
  },
  {
   "cell_type": "code",
   "execution_count": 2,
   "metadata": {},
   "outputs": [
    {
     "data": {
      "text/plain": [
       "(3, 5)"
      ]
     },
     "execution_count": 2,
     "metadata": {},
     "output_type": "execute_result"
    }
   ],
   "source": [
    "A = np.array([\n",
    "  [4, 0, 1,  1, 0],\n",
    "  [2, 1, 0, -2, 0],\n",
    "  [2, 0, 0,  2, 1]\n",
    "])\n",
    "\n",
    "A.shape"
   ]
  },
  {
   "cell_type": "code",
   "execution_count": 3,
   "metadata": {},
   "outputs": [
    {
     "data": {
      "text/plain": [
       "(3, 1)"
      ]
     },
     "execution_count": 3,
     "metadata": {},
     "output_type": "execute_result"
    }
   ],
   "source": [
    "b = np.array([\n",
    "  [-10],\n",
    "  [  6],\n",
    "  [ 14]\n",
    "])\n",
    "\n",
    "b.shape"
   ]
  },
  {
   "cell_type": "code",
   "execution_count": 4,
   "metadata": {},
   "outputs": [],
   "source": [
    "def generate_empty_dataframe(shape, col_names):\n",
    "  aux_matrix    = np.zeros(shape)\n",
    "  aux_matrix[:] = np.nan\n",
    "\n",
    "  df = pd.DataFrame(aux_matrix, columns=col_names)\n",
    "\n",
    "  return df"
   ]
  },
  {
   "cell_type": "code",
   "execution_count": 5,
   "metadata": {},
   "outputs": [],
   "source": [
    "def basic_solves(A, b):\n",
    "  n_rows, n_cols = A.shape\n",
    "  n_solutions    = comb(n_cols, n_rows)\n",
    "\n",
    "  col_names = [f'x{i+1}' for i in range(n_cols)]\n",
    "  columns   = list(range(n_cols))\n",
    "  dim_diff  = int(n_cols - n_rows)\n",
    "  solutions = generate_empty_dataframe((n_rows, n_cols), col_names)\n",
    "\n",
    "  columns_combinations = combinations(columns, dim_diff)\n",
    "  columns_to_drop      = list(columns_combinations)\n",
    "  \n",
    "  for i, cols in enumerate(columns_to_drop):\n",
    "    selected_columns = np.delete(col_names, cols, 0)\n",
    "\n",
    "    new_A = np.delete(A, cols, axis=1)\n",
    "    solve = np.linalg.solve(new_A, b)\n",
    "    solve = np.around(solve.T[0], 2)\n",
    "\n",
    "    solutions.loc[i, selected_columns] = solve\n",
    "\n",
    "  return solutions"
   ]
  },
  {
   "cell_type": "code",
   "execution_count": 6,
   "metadata": {},
   "outputs": [
    {
     "data": {
      "text/html": [
       "<div>\n",
       "<style scoped>\n",
       "    .dataframe tbody tr th:only-of-type {\n",
       "        vertical-align: middle;\n",
       "    }\n",
       "\n",
       "    .dataframe tbody tr th {\n",
       "        vertical-align: top;\n",
       "    }\n",
       "\n",
       "    .dataframe thead th {\n",
       "        text-align: right;\n",
       "    }\n",
       "</style>\n",
       "<table border=\"1\" class=\"dataframe\">\n",
       "  <thead>\n",
       "    <tr style=\"text-align: right;\">\n",
       "      <th></th>\n",
       "      <th>x1</th>\n",
       "      <th>x2</th>\n",
       "      <th>x3</th>\n",
       "      <th>x4</th>\n",
       "      <th>x5</th>\n",
       "    </tr>\n",
       "  </thead>\n",
       "  <tbody>\n",
       "    <tr>\n",
       "      <th>0</th>\n",
       "      <td>NaN</td>\n",
       "      <td>NaN</td>\n",
       "      <td>-7.0</td>\n",
       "      <td>-3.00</td>\n",
       "      <td>20.0</td>\n",
       "    </tr>\n",
       "    <tr>\n",
       "      <th>1</th>\n",
       "      <td>NaN</td>\n",
       "      <td>-14.00</td>\n",
       "      <td>NaN</td>\n",
       "      <td>-10.00</td>\n",
       "      <td>34.0</td>\n",
       "    </tr>\n",
       "    <tr>\n",
       "      <th>2</th>\n",
       "      <td>NaN</td>\n",
       "      <td>6.00</td>\n",
       "      <td>-10.0</td>\n",
       "      <td>NaN</td>\n",
       "      <td>14.0</td>\n",
       "    </tr>\n",
       "    <tr>\n",
       "      <th>3</th>\n",
       "      <td>NaN</td>\n",
       "      <td>20.00</td>\n",
       "      <td>-17.0</td>\n",
       "      <td>7.00</td>\n",
       "      <td>NaN</td>\n",
       "    </tr>\n",
       "    <tr>\n",
       "      <th>4</th>\n",
       "      <td>-1.40</td>\n",
       "      <td>NaN</td>\n",
       "      <td>NaN</td>\n",
       "      <td>-4.40</td>\n",
       "      <td>25.6</td>\n",
       "    </tr>\n",
       "    <tr>\n",
       "      <th>5</th>\n",
       "      <td>3.00</td>\n",
       "      <td>NaN</td>\n",
       "      <td>-22.0</td>\n",
       "      <td>NaN</td>\n",
       "      <td>8.0</td>\n",
       "    </tr>\n",
       "    <tr>\n",
       "      <th>6</th>\n",
       "      <td>5.00</td>\n",
       "      <td>NaN</td>\n",
       "      <td>-32.0</td>\n",
       "      <td>2.00</td>\n",
       "      <td>NaN</td>\n",
       "    </tr>\n",
       "    <tr>\n",
       "      <th>7</th>\n",
       "      <td>-2.50</td>\n",
       "      <td>11.00</td>\n",
       "      <td>NaN</td>\n",
       "      <td>NaN</td>\n",
       "      <td>19.0</td>\n",
       "    </tr>\n",
       "    <tr>\n",
       "      <th>8</th>\n",
       "      <td>-5.67</td>\n",
       "      <td>42.67</td>\n",
       "      <td>NaN</td>\n",
       "      <td>12.67</td>\n",
       "      <td>NaN</td>\n",
       "    </tr>\n",
       "    <tr>\n",
       "      <th>9</th>\n",
       "      <td>7.00</td>\n",
       "      <td>-8.00</td>\n",
       "      <td>-38.0</td>\n",
       "      <td>NaN</td>\n",
       "      <td>NaN</td>\n",
       "    </tr>\n",
       "  </tbody>\n",
       "</table>\n",
       "</div>"
      ],
      "text/plain": [
       "     x1     x2    x3     x4    x5\n",
       "0   NaN    NaN  -7.0  -3.00  20.0\n",
       "1   NaN -14.00   NaN -10.00  34.0\n",
       "2   NaN   6.00 -10.0    NaN  14.0\n",
       "3   NaN  20.00 -17.0   7.00   NaN\n",
       "4 -1.40    NaN   NaN  -4.40  25.6\n",
       "5  3.00    NaN -22.0    NaN   8.0\n",
       "6  5.00    NaN -32.0   2.00   NaN\n",
       "7 -2.50  11.00   NaN    NaN  19.0\n",
       "8 -5.67  42.67   NaN  12.67   NaN\n",
       "9  7.00  -8.00 -38.0    NaN   NaN"
      ]
     },
     "execution_count": 6,
     "metadata": {},
     "output_type": "execute_result"
    }
   ],
   "source": [
    "basic_solves(A, b)"
   ]
  }
 ],
 "metadata": {
  "kernelspec": {
   "display_name": "Python 3.10.4 ('venv': venv)",
   "language": "python",
   "name": "python3"
  },
  "language_info": {
   "codemirror_mode": {
    "name": "ipython",
    "version": 3
   },
   "file_extension": ".py",
   "mimetype": "text/x-python",
   "name": "python",
   "nbconvert_exporter": "python",
   "pygments_lexer": "ipython3",
   "version": "3.10.4"
  },
  "orig_nbformat": 4,
  "vscode": {
   "interpreter": {
    "hash": "ac12bc9cfbfabeaf8a50e40aef554cce1135a619a730e7efc1ce5f9b4d34c131"
   }
  }
 },
 "nbformat": 4,
 "nbformat_minor": 2
}
